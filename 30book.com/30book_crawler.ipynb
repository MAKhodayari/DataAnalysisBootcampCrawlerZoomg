{
 "cells": [
  {
   "cell_type": "code",
   "execution_count": 15,
   "metadata": {},
   "outputs": [],
   "source": [
    "import requests\n",
    "from bs4 import BeautifulSoup\n",
    "import numpy as np\n",
    "import logging\n",
    "import csv\n",
    "from requests.exceptions import HTTPError, ConnectionError, Timeout, RequestException"
   ]
  },
  {
   "cell_type": "code",
   "execution_count": 16,
   "metadata": {},
   "outputs": [],
   "source": [
    "def extract_data(url):\n",
    "    response = requests.get(url, timeout=20)\n",
    "    soup = BeautifulSoup(response.text, 'html.parser')\n",
    "    result = {}\n",
    "    \n",
    "    result['title'] = soup.select('.product-name')[0].get_text().lstrip('\\r\\n ').rstrip(' ')\n",
    "    try:\n",
    "        result['old-price'] = soup.select('.uk-width-1-1 h4')[0].get_text()\n",
    "    except IndexError:\n",
    "        result['old-price'] = 'NOT FOUND'\n",
    "\n",
    "    try:\n",
    "        result['new-price'] = soup.select('.uk-width-1-1 h2')[1].get_text().lstrip('\\r\\n ').rstrip(' ')\n",
    "    except IndexError:\n",
    "        result['new-price'] = 'NOT FOUND'\n",
    "\n",
    "    detail_box = soup.select('.uk-list li a')\n",
    "    result['main-subject']  = detail_box[3].get_text().lstrip(' \\r\\n ').rstrip(' \\r\\n ').rstrip(' ')\n",
    "    result['sub-subject']   = detail_box[4].get_text().lstrip(' \\r\\n ').rstrip(' \\r\\n ').rstrip(' ')\n",
    "    result['writer']        = detail_box[5].get_text().lstrip(' \\r\\n ').rstrip(' \\r\\n ').rstrip(' ')\n",
    "    result['translator']    = detail_box[6].get_text().lstrip(' \\r\\n ').rstrip(' \\r\\n ').rstrip(' ')\n",
    "    result['producer']      = detail_box[7].get_text().lstrip(' \\r\\n ').rstrip(' \\r\\n ').rstrip(' ')\n",
    "\n",
    "    result['seen'] = soup.select('.uk-width-auto span')[12].get_text().lstrip(' \\r\\n ').rstrip(' \\r\\n ')\n",
    "    return result"
   ]
  },
  {
   "cell_type": "code",
   "execution_count": 17,
   "metadata": {},
   "outputs": [],
   "source": [
    "def scrape(url, logger):\n",
    "    \n",
    "    logger.info('Starting to scrape the page [{}]'.format(url))\n",
    "    results = []\n",
    "    \n",
    "    try:\n",
    "        response = requests.get(url, timeout=10)\n",
    "        response.raise_for_status() \n",
    "    except HTTPError as http_err:\n",
    "        logger.error('HTTP error occurred: {}'.format(http_err))\n",
    "        return results\n",
    "    except ConnectionError as conn_err:\n",
    "        logger.error('Connection error occurred: {}'.format(conn_err))\n",
    "        return results\n",
    "    except Timeout as timeout_err:\n",
    "        logger.error('Timeout error occurred: {}'.format(timeout_err))\n",
    "        return results\n",
    "    except RequestException as req_err:\n",
    "        logger.error('Request error occurred: {}'.format(req_err))\n",
    "        return results\n",
    "    \n",
    "    print(f'response = {response.status_code} ')\n",
    "    soup = BeautifulSoup(response.text, 'html.parser')\n",
    "    new_links = soup.select('.uk-margin-medium-bottom div div a')\n",
    "    for i in range(10):\n",
    "        try:\n",
    "            book_url = new_links[i].get('href')\n",
    "            results.append(extract_data(f'https://www.30book.com{book_url}'))\n",
    "            logger.info('scraped successfully.')\n",
    "        except:\n",
    "            logger.warning(f'Failed to extract data')\n",
    "    \n",
    "    return results"
   ]
  },
  {
   "cell_type": "code",
   "execution_count": 20,
   "metadata": {},
   "outputs": [
    {
     "name": "stdout",
     "output_type": "stream",
     "text": [
      "response = 200 \n",
      "scraped page:0\n",
      "response = 200 \n",
      "scraped page:1\n",
      "response = 200 \n",
      "scraped page:2\n",
      "response = 200 \n",
      "scraped page:3\n",
      "response = 200 \n",
      "scraped page:4\n",
      "response = 200 \n",
      "scraped page:5\n",
      "response = 200 \n",
      "scraped page:6\n",
      "response = 200 \n",
      "scraped page:7\n",
      "response = 200 \n",
      "scraped page:8\n",
      "response = 200 \n",
      "scraped page:9\n",
      "response = 200 \n",
      "scraped page:10\n",
      "response = 200 \n",
      "scraped page:11\n",
      "response = 200 \n",
      "scraped page:12\n",
      "response = 200 \n",
      "scraped page:13\n",
      "response = 200 \n",
      "scraped page:14\n",
      "response = 200 \n",
      "scraped page:15\n",
      "response = 200 \n",
      "scraped page:16\n",
      "response = 200 \n",
      "scraped page:17\n",
      "response = 200 \n",
      "scraped page:18\n",
      "response = 200 \n",
      "scraped page:19\n"
     ]
    }
   ],
   "source": [
    "# Set up logging\n",
    "logging.basicConfig(filename='30book.log', filemode='w', format='%(asctime)s %(levelname)s: %(message)s')\n",
    "logger = logging.getLogger()\n",
    "logger.setLevel(logging.DEBUG)\n",
    "all_results = []\n",
    "\n",
    "for page_num in range(20):\n",
    "    url = 'https://www.30book.com/category/bts-1/%DA%A9%D8%AA%D8%A7%D8%A8-%D8%B9%D9%85%D9%88%D9%85%DB%8C?cQ=False&st=7&stO=True&pg={page_num}'\n",
    "    all_results.extend(scrape(url, logger)) \n",
    "    print(f'scraped page:{page_num}')"
   ]
  },
  {
   "cell_type": "code",
   "execution_count": 21,
   "metadata": {},
   "outputs": [],
   "source": [
    "with open('30book.csv', 'w', encoding='utf-8', newline='') as f:\n",
    "    writer = csv.DictWriter(f, fieldnames=['title','old-price','new-price','main-subject', 'sub-subject', 'writer'\n",
    "                                            ,'translator', 'producer', 'seen'])\n",
    "    writer.writeheader()\n",
    "    for co_dic in all_results:\n",
    "        writer.writerow(co_dic)"
   ]
  },
  {
   "cell_type": "code",
   "execution_count": null,
   "metadata": {},
   "outputs": [],
   "source": []
  }
 ],
 "metadata": {
  "kernelspec": {
   "display_name": "Python 3",
   "language": "python",
   "name": "python3"
  },
  "language_info": {
   "codemirror_mode": {
    "name": "ipython",
    "version": 3
   },
   "file_extension": ".py",
   "mimetype": "text/x-python",
   "name": "python",
   "nbconvert_exporter": "python",
   "pygments_lexer": "ipython3",
   "version": "3.11.1"
  },
  "orig_nbformat": 4,
  "vscode": {
   "interpreter": {
    "hash": "d14ac5f514eb552d308e51708f9f84ec73e901d16304dc39ebbe44f9cc482e65"
   }
  }
 },
 "nbformat": 4,
 "nbformat_minor": 2
}
